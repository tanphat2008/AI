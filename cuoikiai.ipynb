{
  "nbformat": 4,
  "nbformat_minor": 0,
  "metadata": {
    "colab": {
      "provenance": [],
      "gpuType": "T4",
      "authorship_tag": "ABX9TyOmXU3bemhIFLt9wCXn8weF",
      "include_colab_link": true
    },
    "kernelspec": {
      "name": "python3",
      "display_name": "Python 3"
    },
    "language_info": {
      "name": "python"
    },
    "accelerator": "GPU",
    "gpuClass": "standard"
  },
  "cells": [
    {
      "cell_type": "markdown",
      "metadata": {
        "id": "view-in-github",
        "colab_type": "text"
      },
      "source": [
        "<a href=\"https://colab.research.google.com/github/tanphat2008/AI/blob/main/cuoikiai.ipynb\" target=\"_parent\"><img src=\"https://colab.research.google.com/assets/colab-badge.svg\" alt=\"Open In Colab\"/></a>"
      ]
    },
    {
      "cell_type": "code",
      "source": [
        "pip install keras_preprocessing"
      ],
      "metadata": {
        "colab": {
          "base_uri": "https://localhost:8080/"
        },
        "id": "bMIwvlE_xAkJ",
        "outputId": "cdd75bd8-4258-443d-917c-0eb6dad7e5ac"
      },
      "execution_count": null,
      "outputs": [
        {
          "output_type": "stream",
          "name": "stdout",
          "text": [
            "Looking in indexes: https://pypi.org/simple, https://us-python.pkg.dev/colab-wheels/public/simple/\n",
            "Requirement already satisfied: keras_preprocessing in /usr/local/lib/python3.10/dist-packages (1.1.2)\n",
            "Requirement already satisfied: numpy>=1.9.1 in /usr/local/lib/python3.10/dist-packages (from keras_preprocessing) (1.22.4)\n",
            "Requirement already satisfied: six>=1.9.0 in /usr/local/lib/python3.10/dist-packages (from keras_preprocessing) (1.16.0)\n"
          ]
        }
      ]
    },
    {
      "cell_type": "code",
      "source": [
        "import numpy as np\n",
        "import tensorflow as tf\n",
        "from tensorflow.keras.models import load_model\n",
        "from tensorflow.keras.utils import load_img\n",
        "from tensorflow.keras.utils import img_to_array\n",
        "from tensorflow.keras.optimizers import SGD,Adam\n",
        "from tensorflow.keras.preprocessing.image import ImageDataGenerator\n",
        "import matplotlib.pyplot as plt\n",
        "from keras.models import Sequential \n",
        "from keras.utils import np_utils\n",
        "from keras.layers import Dense,Activation,Dropout,LSTM,BatchNormalization\n",
        "from keras.layers import Flatten\n",
        "from tensorflow.keras.optimizers import RMSprop\n",
        "from tensorflow.keras.utils import to_categorical\n",
        "from keras.layers.convolutional import Conv2D\n",
        "from keras.layers.convolutional import MaxPooling2D"
      ],
      "metadata": {
        "id": "hOSZY1unxB-L"
      },
      "execution_count": null,
      "outputs": []
    },
    {
      "cell_type": "code",
      "source": [
        "from google.colab import drive\n",
        "drive.mount('/content/drive')"
      ],
      "metadata": {
        "colab": {
          "base_uri": "https://localhost:8080/"
        },
        "id": "u7vrtk2w0nxg",
        "outputId": "f703d4c6-1458-4dbf-e0fb-24ce6cf5f96f"
      },
      "execution_count": null,
      "outputs": [
        {
          "output_type": "stream",
          "name": "stdout",
          "text": [
            "Drive already mounted at /content/drive; to attempt to forcibly remount, call drive.mount(\"/content/drive\", force_remount=True).\n"
          ]
        }
      ]
    },
    {
      "cell_type": "code",
      "source": [
        "data_generator = ImageDataGenerator(rescale=1./255,\n",
        "                                    validation_split=0.1,\n",
        "                                    width_shift_range=0.2,\n",
        "                                    height_shift_range=0.2,\n",
        "                                    zoom_range=0.2,\n",
        "                                    horizontal_flip=True)"
      ],
      "metadata": {
        "id": "hPmjhInn0qUm"
      },
      "execution_count": null,
      "outputs": []
    },
    {
      "cell_type": "code",
      "source": [
        "trainset='/content/drive/MyDrive/baitapai/archive/flowers/'\n",
        "     "
      ],
      "metadata": {
        "id": "UiS6bL-e0t2T"
      },
      "execution_count": null,
      "outputs": []
    },
    {
      "cell_type": "code",
      "source": [
        "train_dataset=data_generator.flow_from_directory(trainset,\n",
        "                                     target_size=(100,100),\n",
        "                                     batch_size=128,\n",
        "                                     class_mode='categorical',\n",
        "                                     subset=\"training\",\n",
        "                                     shuffle=True,)\n",
        "validation_set=data_generator.flow_from_directory(trainset,\n",
        "                                              target_size=(100,100),\n",
        "                                              batch_size=128,\n",
        "                                              class_mode='categorical',\n",
        "                                              subset=\"validation\",\n",
        "                                              shuffle=True)"
      ],
      "metadata": {
        "colab": {
          "base_uri": "https://localhost:8080/"
        },
        "id": "rHr_5_tt01vc",
        "outputId": "1b30dc61-1ec5-412c-b41c-399e00498601"
      },
      "execution_count": null,
      "outputs": [
        {
          "output_type": "stream",
          "name": "stdout",
          "text": [
            "Found 6300 images belonging to 10 classes.\n",
            "Found 700 images belonging to 10 classes.\n"
          ]
        }
      ]
    },
    {
      "cell_type": "code",
      "source": [
        "validation_set.class_indices"
      ],
      "metadata": {
        "colab": {
          "base_uri": "https://localhost:8080/"
        },
        "id": "V9DKdHjh038g",
        "outputId": "a745a8e7-b159-465b-8cb5-40980e5fbe07"
      },
      "execution_count": null,
      "outputs": [
        {
          "output_type": "execute_result",
          "data": {
            "text/plain": [
              "{'bellflower': 0,\n",
              " 'calendula': 1,\n",
              " 'common_daisy': 2,\n",
              " 'dandelion': 3,\n",
              " 'iris': 4,\n",
              " 'magnolia': 5,\n",
              " 'rose': 6,\n",
              " 'sunflower': 7,\n",
              " 'tulip': 8,\n",
              " 'water_lily': 9}"
            ]
          },
          "metadata": {},
          "execution_count": 33
        }
      ]
    },
    {
      "cell_type": "code",
      "source": [
        "model = Sequential()\n",
        "model.add(Conv2D(32,(3,3),activation='relu',kernel_initializer='he_uniform',padding ='same',input_shape=(100,100,3)))\n",
        "model.add(Conv2D(32,(3,3),activation='relu',kernel_initializer='he_uniform',padding ='same'))\n",
        "model.add(MaxPooling2D((2,2)))\n",
        "model.add(Conv2D(64,(3,3),activation='relu',kernel_initializer='he_uniform',padding ='same'))\n",
        "model.add(Conv2D(64,(3,3),activation='relu',kernel_initializer='he_uniform',padding ='same'))\n",
        "model.add(MaxPooling2D((2,2)))\n",
        "model.add(Conv2D(128,(3,3),activation='relu',kernel_initializer='he_uniform',padding ='same'))\n",
        "model.add(Conv2D(128,(3,3),activation='relu',kernel_initializer='he_uniform',padding ='same'))\n",
        "model.add(MaxPooling2D((2,2)))\n",
        "model.add(Conv2D(256,(3,3),activation='relu',kernel_initializer='he_uniform',padding ='same'))\n",
        "model.add(Conv2D(256,(3,3),activation='relu',kernel_initializer='he_uniform',padding ='same'))\n",
        "model.add(MaxPooling2D((2,2)))\n",
        "model.add(Conv2D(512,(3,3),activation='relu',kernel_initializer='he_uniform',padding ='same'))\n",
        "model.add(Conv2D(512,(3,3),activation='relu',kernel_initializer='he_uniform',padding ='same'))\n",
        "model.add(MaxPooling2D((2,2)))\n",
        "model.add(Flatten())\n",
        "model.add(Dense(512,activation='relu',kernel_initializer='he_uniform'))\n",
        "model.add(Dropout(0.2))\n",
        "model.add(Dense(10,activation='softmax'))"
      ],
      "metadata": {
        "id": "AKbsZszr06rt"
      },
      "execution_count": null,
      "outputs": []
    },
    {
      "cell_type": "code",
      "source": [
        "model.compile(loss='categorical_crossentropy',optimizer='adam',metrics=['accuracy'])\n",
        "model.fit(train_dataset,batch_size=128,epochs=50,verbose=1,validation_data=validation_set)"
      ],
      "metadata": {
        "colab": {
          "base_uri": "https://localhost:8080/"
        },
        "id": "ciwmXj4i091X",
        "outputId": "4a7dda0d-406a-4e3c-8f0b-3d7b801e24e6"
      },
      "execution_count": null,
      "outputs": [
        {
          "output_type": "stream",
          "name": "stdout",
          "text": [
            "Epoch 1/50\n",
            "50/50 [==============================] - 1635s 33s/step - loss: 2.3891 - accuracy: 0.1930 - val_loss: 1.9147 - val_accuracy: 0.2743\n",
            "Epoch 2/50\n",
            "50/50 [==============================] - 44s 882ms/step - loss: 1.7299 - accuracy: 0.3360 - val_loss: 1.5461 - val_accuracy: 0.4300\n",
            "Epoch 3/50\n",
            "50/50 [==============================] - 44s 870ms/step - loss: 1.4064 - accuracy: 0.4929 - val_loss: 1.2159 - val_accuracy: 0.5600\n",
            "Epoch 4/50\n",
            "50/50 [==============================] - 46s 911ms/step - loss: 1.2027 - accuracy: 0.5765 - val_loss: 1.1108 - val_accuracy: 0.5971\n",
            "Epoch 5/50\n",
            "50/50 [==============================] - 44s 875ms/step - loss: 1.1548 - accuracy: 0.5924 - val_loss: 1.1228 - val_accuracy: 0.6071\n",
            "Epoch 6/50\n",
            "50/50 [==============================] - 45s 891ms/step - loss: 1.0469 - accuracy: 0.6373 - val_loss: 0.9977 - val_accuracy: 0.6400\n",
            "Epoch 7/50\n",
            "50/50 [==============================] - 45s 901ms/step - loss: 0.9625 - accuracy: 0.6605 - val_loss: 0.9059 - val_accuracy: 0.6743\n",
            "Epoch 8/50\n",
            "50/50 [==============================] - 44s 875ms/step - loss: 0.8721 - accuracy: 0.6967 - val_loss: 0.8597 - val_accuracy: 0.6943\n",
            "Epoch 9/50\n",
            "50/50 [==============================] - 44s 882ms/step - loss: 0.8222 - accuracy: 0.7183 - val_loss: 0.8711 - val_accuracy: 0.6971\n",
            "Epoch 10/50\n",
            "50/50 [==============================] - 44s 882ms/step - loss: 0.7789 - accuracy: 0.7337 - val_loss: 0.7651 - val_accuracy: 0.7271\n",
            "Epoch 11/50\n",
            "50/50 [==============================] - 44s 877ms/step - loss: 0.7271 - accuracy: 0.7508 - val_loss: 0.7398 - val_accuracy: 0.7443\n",
            "Epoch 12/50\n",
            "50/50 [==============================] - 43s 869ms/step - loss: 0.6821 - accuracy: 0.7678 - val_loss: 0.6987 - val_accuracy: 0.7629\n",
            "Epoch 13/50\n",
            "50/50 [==============================] - 44s 871ms/step - loss: 0.6590 - accuracy: 0.7703 - val_loss: 0.7309 - val_accuracy: 0.7457\n",
            "Epoch 14/50\n",
            "50/50 [==============================] - 44s 878ms/step - loss: 0.6032 - accuracy: 0.7973 - val_loss: 0.6265 - val_accuracy: 0.7957\n",
            "Epoch 15/50\n",
            "50/50 [==============================] - 45s 907ms/step - loss: 0.5685 - accuracy: 0.8079 - val_loss: 0.6507 - val_accuracy: 0.7900\n",
            "Epoch 16/50\n",
            "50/50 [==============================] - 44s 867ms/step - loss: 0.5530 - accuracy: 0.8068 - val_loss: 0.6435 - val_accuracy: 0.7943\n",
            "Epoch 17/50\n",
            "50/50 [==============================] - 43s 869ms/step - loss: 0.5394 - accuracy: 0.8179 - val_loss: 0.6334 - val_accuracy: 0.7900\n",
            "Epoch 18/50\n",
            "50/50 [==============================] - 44s 870ms/step - loss: 0.4958 - accuracy: 0.8341 - val_loss: 0.5857 - val_accuracy: 0.8057\n",
            "Epoch 19/50\n",
            "50/50 [==============================] - 44s 879ms/step - loss: 0.4809 - accuracy: 0.8389 - val_loss: 0.6171 - val_accuracy: 0.7986\n",
            "Epoch 20/50\n",
            "50/50 [==============================] - 45s 907ms/step - loss: 0.4558 - accuracy: 0.8463 - val_loss: 0.5917 - val_accuracy: 0.8286\n",
            "Epoch 21/50\n",
            "50/50 [==============================] - 45s 904ms/step - loss: 0.4115 - accuracy: 0.8644 - val_loss: 0.6184 - val_accuracy: 0.8071\n",
            "Epoch 22/50\n",
            "50/50 [==============================] - 44s 871ms/step - loss: 0.4034 - accuracy: 0.8617 - val_loss: 0.5144 - val_accuracy: 0.8386\n",
            "Epoch 23/50\n",
            "50/50 [==============================] - 44s 874ms/step - loss: 0.3800 - accuracy: 0.8713 - val_loss: 0.5202 - val_accuracy: 0.8271\n",
            "Epoch 24/50\n",
            "50/50 [==============================] - 45s 893ms/step - loss: 0.3889 - accuracy: 0.8713 - val_loss: 0.5162 - val_accuracy: 0.8314\n",
            "Epoch 25/50\n",
            "50/50 [==============================] - 46s 913ms/step - loss: 0.3573 - accuracy: 0.8765 - val_loss: 0.5380 - val_accuracy: 0.8200\n",
            "Epoch 26/50\n",
            "50/50 [==============================] - 45s 904ms/step - loss: 0.3230 - accuracy: 0.8944 - val_loss: 0.5372 - val_accuracy: 0.8357\n",
            "Epoch 27/50\n",
            "50/50 [==============================] - 44s 875ms/step - loss: 0.3448 - accuracy: 0.8811 - val_loss: 0.5211 - val_accuracy: 0.8414\n",
            "Epoch 28/50\n",
            "50/50 [==============================] - 44s 870ms/step - loss: 0.3124 - accuracy: 0.8925 - val_loss: 0.4969 - val_accuracy: 0.8514\n",
            "Epoch 29/50\n",
            "50/50 [==============================] - 44s 873ms/step - loss: 0.3098 - accuracy: 0.8960 - val_loss: 0.5191 - val_accuracy: 0.8400\n",
            "Epoch 30/50\n",
            "50/50 [==============================] - 45s 893ms/step - loss: 0.3173 - accuracy: 0.8979 - val_loss: 0.5173 - val_accuracy: 0.8271\n",
            "Epoch 31/50\n",
            "50/50 [==============================] - 45s 893ms/step - loss: 0.3123 - accuracy: 0.8930 - val_loss: 0.5319 - val_accuracy: 0.8314\n",
            "Epoch 32/50\n",
            "50/50 [==============================] - 44s 879ms/step - loss: 0.2921 - accuracy: 0.9029 - val_loss: 0.5679 - val_accuracy: 0.8371\n",
            "Epoch 33/50\n",
            "50/50 [==============================] - 45s 887ms/step - loss: 0.2623 - accuracy: 0.9108 - val_loss: 0.6323 - val_accuracy: 0.8343\n",
            "Epoch 34/50\n",
            "50/50 [==============================] - 44s 884ms/step - loss: 0.2712 - accuracy: 0.9060 - val_loss: 0.5001 - val_accuracy: 0.8457\n",
            "Epoch 35/50\n",
            "50/50 [==============================] - 43s 866ms/step - loss: 0.2421 - accuracy: 0.9175 - val_loss: 0.5271 - val_accuracy: 0.8386\n",
            "Epoch 36/50\n",
            "50/50 [==============================] - 45s 891ms/step - loss: 0.2710 - accuracy: 0.9052 - val_loss: 0.5498 - val_accuracy: 0.8429\n",
            "Epoch 37/50\n",
            "50/50 [==============================] - 44s 889ms/step - loss: 0.2422 - accuracy: 0.9151 - val_loss: 0.5433 - val_accuracy: 0.8257\n",
            "Epoch 38/50\n",
            "50/50 [==============================] - 44s 874ms/step - loss: 0.2307 - accuracy: 0.9205 - val_loss: 0.4916 - val_accuracy: 0.8571\n",
            "Epoch 39/50\n",
            "50/50 [==============================] - 45s 901ms/step - loss: 0.2018 - accuracy: 0.9316 - val_loss: 0.5346 - val_accuracy: 0.8443\n",
            "Epoch 40/50\n",
            "50/50 [==============================] - 44s 871ms/step - loss: 0.2065 - accuracy: 0.9287 - val_loss: 0.5561 - val_accuracy: 0.8414\n",
            "Epoch 41/50\n",
            "50/50 [==============================] - 44s 873ms/step - loss: 0.2041 - accuracy: 0.9268 - val_loss: 0.5450 - val_accuracy: 0.8414\n",
            "Epoch 42/50\n",
            "50/50 [==============================] - 44s 884ms/step - loss: 0.2049 - accuracy: 0.9351 - val_loss: 0.5932 - val_accuracy: 0.8357\n",
            "Epoch 43/50\n",
            "50/50 [==============================] - 45s 890ms/step - loss: 0.2227 - accuracy: 0.9237 - val_loss: 0.4543 - val_accuracy: 0.8557\n",
            "Epoch 44/50\n",
            "50/50 [==============================] - 43s 869ms/step - loss: 0.2096 - accuracy: 0.9275 - val_loss: 0.5610 - val_accuracy: 0.8586\n",
            "Epoch 45/50\n",
            "50/50 [==============================] - 45s 895ms/step - loss: 0.2041 - accuracy: 0.9302 - val_loss: 0.5628 - val_accuracy: 0.8529\n",
            "Epoch 46/50\n",
            "50/50 [==============================] - 44s 883ms/step - loss: 0.1899 - accuracy: 0.9325 - val_loss: 0.5927 - val_accuracy: 0.8357\n",
            "Epoch 47/50\n",
            "50/50 [==============================] - 44s 876ms/step - loss: 0.1915 - accuracy: 0.9327 - val_loss: 0.4705 - val_accuracy: 0.8700\n",
            "Epoch 48/50\n",
            "50/50 [==============================] - 45s 890ms/step - loss: 0.1701 - accuracy: 0.9413 - val_loss: 0.5030 - val_accuracy: 0.8714\n",
            "Epoch 49/50\n",
            "50/50 [==============================] - 45s 901ms/step - loss: 0.1548 - accuracy: 0.9462 - val_loss: 0.4898 - val_accuracy: 0.8729\n",
            "Epoch 50/50\n",
            "50/50 [==============================] - 44s 882ms/step - loss: 0.1957 - accuracy: 0.9321 - val_loss: 0.4812 - val_accuracy: 0.8543\n"
          ]
        },
        {
          "output_type": "execute_result",
          "data": {
            "text/plain": [
              "<keras.callbacks.History at 0x7f69003c8b20>"
            ]
          },
          "metadata": {},
          "execution_count": 35
        }
      ]
    },
    {
      "cell_type": "code",
      "source": [
        "model.save('cuoikiai.h5')"
      ],
      "metadata": {
        "id": "j-6_-ZDj1A8X"
      },
      "execution_count": null,
      "outputs": []
    },
    {
      "cell_type": "code",
      "source": [
        "model1=load_model('cuoikiai.h5')"
      ],
      "metadata": {
        "id": "hiW4XdV37CB5"
      },
      "execution_count": null,
      "outputs": []
    },
    {
      "cell_type": "markdown",
      "source": [
        "# Mục mới"
      ],
      "metadata": {
        "id": "xoyY7J_oJi4-"
      }
    }
  ]
}