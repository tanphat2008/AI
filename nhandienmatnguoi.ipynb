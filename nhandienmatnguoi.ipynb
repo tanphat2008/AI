{
  "nbformat": 4,
  "nbformat_minor": 0,
  "metadata": {
    "colab": {
      "provenance": [],
      "authorship_tag": "ABX9TyOZdnh/cMMOw2CcSd8wV1Bm",
      "include_colab_link": true
    },
    "kernelspec": {
      "name": "python3",
      "display_name": "Python 3"
    },
    "language_info": {
      "name": "python"
    }
  },
  "cells": [
    {
      "cell_type": "markdown",
      "metadata": {
        "id": "view-in-github",
        "colab_type": "text"
      },
      "source": [
        "<a href=\"https://colab.research.google.com/github/tanphat2008/AI/blob/main/nhandienmatnguoi.ipynb\" target=\"_parent\"><img src=\"https://colab.research.google.com/assets/colab-badge.svg\" alt=\"Open In Colab\"/></a>"
      ]
    },
    {
      "cell_type": "code",
      "execution_count": 29,
      "metadata": {
        "id": "hrjsNRr_-ieE"
      },
      "outputs": [],
      "source": [
        "import numpy as np\n",
        "import tensorflow as tf\n",
        "from tensorflow.keras.models import load_model\n",
        "from tensorflow.keras.utils import load_img\n",
        "from tensorflow.keras.utils import img_to_array\n",
        "from tensorflow.keras.optimizers import SGD,Adam\n",
        "from tensorflow.keras.preprocessing.image import ImageDataGenerator\n",
        "import matplotlib.pyplot as plt\n",
        "from keras.models import Sequential \n",
        "from keras.utils import np_utils\n",
        "from keras.layers import Dense,Activation,Dropout,LSTM,BatchNormalization\n",
        "from keras.layers import Flatten\n",
        "from tensorflow.keras.optimizers import RMSprop\n",
        "from tensorflow.keras.utils import to_categorical\n",
        "from keras.layers.convolutional import Conv2D\n",
        "from keras.layers.convolutional import MaxPooling2D"
      ]
    },
    {
      "cell_type": "code",
      "source": [
        "from google.colab import drive\n",
        "drive.mount('/content/drive')"
      ],
      "metadata": {
        "colab": {
          "base_uri": "https://localhost:8080/"
        },
        "id": "ZnwNJFxMsnT_",
        "outputId": "2bae48b7-f25a-4abb-f0da-97fe14438138"
      },
      "execution_count": 30,
      "outputs": [
        {
          "output_type": "stream",
          "name": "stdout",
          "text": [
            "Drive already mounted at /content/drive; to attempt to forcibly remount, call drive.mount(\"/content/drive\", force_remount=True).\n"
          ]
        }
      ]
    },
    {
      "cell_type": "code",
      "source": [
        "data_generator = ImageDataGenerator(rescale=1./255,\n",
        "                                    validation_split=0.1,\n",
        "                                    width_shift_range=0.2,\n",
        "                                    height_shift_range=0.2,\n",
        "                                    zoom_range=0.2,\n",
        "                                    horizontal_flip=True)"
      ],
      "metadata": {
        "id": "uzeFbi99s4LW"
      },
      "execution_count": 31,
      "outputs": []
    },
    {
      "cell_type": "code",
      "source": [
        "trainset='/content/drive/MyDrive/baitapai/anhai/'"
      ],
      "metadata": {
        "id": "oaRs7_yys7e6"
      },
      "execution_count": 32,
      "outputs": []
    },
    {
      "cell_type": "code",
      "source": [
        "train_dataset=data_generator.flow_from_directory(trainset,\n",
        "                                     target_size=(100,100),\n",
        "                                     batch_size=128,\n",
        "                                     class_mode='categorical',\n",
        "                                     subset=\"training\",\n",
        "                                     shuffle=True,)\n",
        "validation_set=data_generator.flow_from_directory(trainset,\n",
        "                                              target_size=(100,100),\n",
        "                                              batch_size=128,\n",
        "                                              class_mode='categorical',\n",
        "                                              subset=\"validation\",\n",
        "                                              shuffle=True)"
      ],
      "metadata": {
        "colab": {
          "base_uri": "https://localhost:8080/"
        },
        "id": "nNtbNkQAtEj0",
        "outputId": "fbecbb11-abf1-4897-858d-0841a6e49166"
      },
      "execution_count": 33,
      "outputs": [
        {
          "output_type": "stream",
          "name": "stdout",
          "text": [
            "Found 99 images belonging to 2 classes.\n",
            "Found 11 images belonging to 2 classes.\n"
          ]
        }
      ]
    },
    {
      "cell_type": "code",
      "source": [
        "validation_set.class_indices"
      ],
      "metadata": {
        "colab": {
          "base_uri": "https://localhost:8080/"
        },
        "id": "ex8xkNkdtIP6",
        "outputId": "1bdd2643-3b9f-49b8-ede4-0243b33a593d"
      },
      "execution_count": 41,
      "outputs": [
        {
          "output_type": "execute_result",
          "data": {
            "text/plain": [
              "{'phat': 0, 'phuc': 1}"
            ]
          },
          "metadata": {},
          "execution_count": 41
        }
      ]
    },
    {
      "cell_type": "code",
      "source": [
        "model = Sequential()\n",
        "model.add(Conv2D(32,(3,3),activation='relu',kernel_initializer='he_uniform',padding ='same',input_shape=(100,100,3)))\n",
        "model.add(Conv2D(32,(3,3),activation='relu',kernel_initializer='he_uniform',padding ='same'))\n",
        "model.add(MaxPooling2D((2,2)))\n",
        "model.add(Conv2D(64,(3,3),activation='relu',kernel_initializer='he_uniform',padding ='same'))\n",
        "model.add(Conv2D(64,(3,3),activation='relu',kernel_initializer='he_uniform',padding ='same'))\n",
        "model.add(MaxPooling2D((2,2)))\n",
        "model.add(Conv2D(128,(3,3),activation='relu',kernel_initializer='he_uniform',padding ='same'))\n",
        "model.add(Conv2D(128,(3,3),activation='relu',kernel_initializer='he_uniform',padding ='same'))\n",
        "model.add(MaxPooling2D((2,2)))\n",
        "model.add(Conv2D(256,(3,3),activation='relu',kernel_initializer='he_uniform',padding ='same'))\n",
        "model.add(Conv2D(256,(3,3),activation='relu',kernel_initializer='he_uniform',padding ='same'))\n",
        "model.add(MaxPooling2D((2,2)))\n",
        "model.add(Conv2D(512,(3,3),activation='relu',kernel_initializer='he_uniform',padding ='same'))\n",
        "model.add(Conv2D(512,(3,3),activation='relu',kernel_initializer='he_uniform',padding ='same'))\n",
        "model.add(MaxPooling2D((2,2)))\n",
        "model.add(Flatten())\n",
        "model.add(Dense(512,activation='relu',kernel_initializer='he_uniform'))\n",
        "model.add(Dropout(0.2))\n",
        "model.add(Dense(2,activation='softmax'))"
      ],
      "metadata": {
        "id": "dl7jlv4IthkQ"
      },
      "execution_count": 42,
      "outputs": []
    },
    {
      "cell_type": "code",
      "source": [
        "model.compile(loss='categorical_crossentropy',optimizer='adam',metrics=['accuracy'])\n",
        "model.fit(train_dataset,batch_size=128,epochs=50,verbose=1,validation_data=validation_set)"
      ],
      "metadata": {
        "colab": {
          "base_uri": "https://localhost:8080/"
        },
        "id": "85DOMqIpBfy7",
        "outputId": "f2b79f1f-475d-4866-92cb-83b934a10203"
      },
      "execution_count": 43,
      "outputs": [
        {
          "output_type": "stream",
          "name": "stdout",
          "text": [
            "Epoch 1/50\n",
            "1/1 [==============================] - 50s 50s/step - loss: 1.0972 - accuracy: 0.5556 - val_loss: 46.3246 - val_accuracy: 0.4545\n",
            "Epoch 2/50\n",
            "1/1 [==============================] - 18s 18s/step - loss: 46.7648 - accuracy: 0.4545 - val_loss: 0.7036 - val_accuracy: 0.4545\n",
            "Epoch 3/50\n",
            "1/1 [==============================] - 17s 17s/step - loss: 0.7367 - accuracy: 0.4848 - val_loss: 0.8849 - val_accuracy: 0.5455\n",
            "Epoch 4/50\n",
            "1/1 [==============================] - 18s 18s/step - loss: 0.8954 - accuracy: 0.5455 - val_loss: 0.7130 - val_accuracy: 0.5455\n",
            "Epoch 5/50\n",
            "1/1 [==============================] - 17s 17s/step - loss: 0.7099 - accuracy: 0.5455 - val_loss: 0.6887 - val_accuracy: 0.5455\n",
            "Epoch 6/50\n",
            "1/1 [==============================] - 17s 17s/step - loss: 0.6916 - accuracy: 0.5859 - val_loss: 0.6870 - val_accuracy: 0.4545\n",
            "Epoch 7/50\n",
            "1/1 [==============================] - 18s 18s/step - loss: 0.6915 - accuracy: 0.4545 - val_loss: 0.6807 - val_accuracy: 0.4545\n",
            "Epoch 8/50\n",
            "1/1 [==============================] - 17s 17s/step - loss: 0.6824 - accuracy: 0.4545 - val_loss: 0.6782 - val_accuracy: 0.4545\n",
            "Epoch 9/50\n",
            "1/1 [==============================] - 17s 17s/step - loss: 0.6783 - accuracy: 0.5455 - val_loss: 0.6639 - val_accuracy: 0.4545\n",
            "Epoch 10/50\n",
            "1/1 [==============================] - 18s 18s/step - loss: 0.6569 - accuracy: 0.4747 - val_loss: 0.6445 - val_accuracy: 0.8182\n",
            "Epoch 11/50\n",
            "1/1 [==============================] - 17s 17s/step - loss: 0.6195 - accuracy: 0.7475 - val_loss: 0.5377 - val_accuracy: 0.6364\n",
            "Epoch 12/50\n",
            "1/1 [==============================] - 17s 17s/step - loss: 0.5475 - accuracy: 0.7475 - val_loss: 0.9137 - val_accuracy: 0.5455\n",
            "Epoch 13/50\n",
            "1/1 [==============================] - 17s 17s/step - loss: 0.9093 - accuracy: 0.5455 - val_loss: 0.7377 - val_accuracy: 0.5455\n",
            "Epoch 14/50\n",
            "1/1 [==============================] - 18s 18s/step - loss: 0.6960 - accuracy: 0.5556 - val_loss: 0.5294 - val_accuracy: 0.4545\n",
            "Epoch 15/50\n",
            "1/1 [==============================] - 17s 17s/step - loss: 0.5213 - accuracy: 0.4545 - val_loss: 0.6632 - val_accuracy: 0.5455\n",
            "Epoch 16/50\n",
            "1/1 [==============================] - 17s 17s/step - loss: 0.6408 - accuracy: 0.7071 - val_loss: 0.6783 - val_accuracy: 0.5455\n",
            "Epoch 17/50\n",
            "1/1 [==============================] - 20s 20s/step - loss: 0.6862 - accuracy: 0.5657 - val_loss: 0.6834 - val_accuracy: 0.5455\n",
            "Epoch 18/50\n",
            "1/1 [==============================] - 18s 18s/step - loss: 0.6741 - accuracy: 0.5556 - val_loss: 0.6616 - val_accuracy: 0.5455\n",
            "Epoch 19/50\n",
            "1/1 [==============================] - 17s 17s/step - loss: 0.6672 - accuracy: 0.5758 - val_loss: 0.6701 - val_accuracy: 0.5455\n",
            "Epoch 20/50\n",
            "1/1 [==============================] - 17s 17s/step - loss: 0.6458 - accuracy: 0.6768 - val_loss: 0.6527 - val_accuracy: 0.9091\n",
            "Epoch 21/50\n",
            "1/1 [==============================] - 18s 18s/step - loss: 0.6124 - accuracy: 0.9293 - val_loss: 0.4953 - val_accuracy: 1.0000\n",
            "Epoch 22/50\n",
            "1/1 [==============================] - 17s 17s/step - loss: 0.5192 - accuracy: 0.8889 - val_loss: 0.4969 - val_accuracy: 0.4545\n",
            "Epoch 23/50\n",
            "1/1 [==============================] - 17s 17s/step - loss: 0.4613 - accuracy: 0.4949 - val_loss: 0.3909 - val_accuracy: 1.0000\n",
            "Epoch 24/50\n",
            "1/1 [==============================] - 18s 18s/step - loss: 0.3566 - accuracy: 0.9899 - val_loss: 0.3601 - val_accuracy: 0.9091\n",
            "Epoch 25/50\n",
            "1/1 [==============================] - 17s 17s/step - loss: 0.2939 - accuracy: 0.9899 - val_loss: 0.1990 - val_accuracy: 1.0000\n",
            "Epoch 26/50\n",
            "1/1 [==============================] - 21s 21s/step - loss: 0.2068 - accuracy: 0.9697 - val_loss: 0.0864 - val_accuracy: 1.0000\n",
            "Epoch 27/50\n",
            "1/1 [==============================] - 19s 19s/step - loss: 0.0898 - accuracy: 1.0000 - val_loss: 0.0093 - val_accuracy: 1.0000\n",
            "Epoch 28/50\n",
            "1/1 [==============================] - 25s 25s/step - loss: 0.0531 - accuracy: 0.9899 - val_loss: 0.0125 - val_accuracy: 1.0000\n",
            "Epoch 29/50\n",
            "1/1 [==============================] - 20s 20s/step - loss: 0.0168 - accuracy: 0.9899 - val_loss: 3.1409 - val_accuracy: 0.7273\n",
            "Epoch 30/50\n",
            "1/1 [==============================] - 22s 22s/step - loss: 3.2948 - accuracy: 0.6768 - val_loss: 15.9770 - val_accuracy: 0.5455\n",
            "Epoch 31/50\n",
            "1/1 [==============================] - 17s 17s/step - loss: 13.5291 - accuracy: 0.5657 - val_loss: 10.4262 - val_accuracy: 0.5455\n",
            "Epoch 32/50\n",
            "1/1 [==============================] - 17s 17s/step - loss: 10.2475 - accuracy: 0.5455 - val_loss: 4.1259 - val_accuracy: 0.5455\n",
            "Epoch 33/50\n",
            "1/1 [==============================] - 18s 18s/step - loss: 3.7568 - accuracy: 0.5455 - val_loss: 1.1040 - val_accuracy: 0.5455\n",
            "Epoch 34/50\n",
            "1/1 [==============================] - 17s 17s/step - loss: 1.0550 - accuracy: 0.5455 - val_loss: 0.6805 - val_accuracy: 0.5455\n",
            "Epoch 35/50\n",
            "1/1 [==============================] - 18s 18s/step - loss: 0.6739 - accuracy: 0.5455 - val_loss: 0.6806 - val_accuracy: 0.5455\n",
            "Epoch 36/50\n",
            "1/1 [==============================] - 17s 17s/step - loss: 0.6760 - accuracy: 0.5657 - val_loss: 0.6869 - val_accuracy: 0.5455\n",
            "Epoch 37/50\n",
            "1/1 [==============================] - 17s 17s/step - loss: 0.6846 - accuracy: 0.7475 - val_loss: 0.6897 - val_accuracy: 0.4545\n",
            "Epoch 38/50\n",
            "1/1 [==============================] - 17s 17s/step - loss: 0.6899 - accuracy: 0.4545 - val_loss: 0.6908 - val_accuracy: 0.4545\n",
            "Epoch 39/50\n",
            "1/1 [==============================] - 18s 18s/step - loss: 0.6913 - accuracy: 0.4545 - val_loss: 0.6912 - val_accuracy: 0.4545\n",
            "Epoch 40/50\n",
            "1/1 [==============================] - 17s 17s/step - loss: 0.6920 - accuracy: 0.4545 - val_loss: 0.6910 - val_accuracy: 0.4545\n",
            "Epoch 41/50\n",
            "1/1 [==============================] - 17s 17s/step - loss: 0.6910 - accuracy: 0.4545 - val_loss: 0.6905 - val_accuracy: 0.4545\n",
            "Epoch 42/50\n",
            "1/1 [==============================] - 17s 17s/step - loss: 0.6901 - accuracy: 0.4545 - val_loss: 0.6905 - val_accuracy: 0.4545\n",
            "Epoch 43/50\n",
            "1/1 [==============================] - 17s 17s/step - loss: 0.6908 - accuracy: 0.4545 - val_loss: 0.6897 - val_accuracy: 0.4545\n",
            "Epoch 44/50\n",
            "1/1 [==============================] - 17s 17s/step - loss: 0.6896 - accuracy: 0.4545 - val_loss: 0.6894 - val_accuracy: 0.4545\n",
            "Epoch 45/50\n",
            "1/1 [==============================] - 17s 17s/step - loss: 0.6884 - accuracy: 0.4545 - val_loss: 0.6877 - val_accuracy: 0.4545\n",
            "Epoch 46/50\n",
            "1/1 [==============================] - 17s 17s/step - loss: 0.6869 - accuracy: 0.4545 - val_loss: 0.6864 - val_accuracy: 0.4545\n",
            "Epoch 47/50\n",
            "1/1 [==============================] - 18s 18s/step - loss: 0.6855 - accuracy: 0.4545 - val_loss: 0.6847 - val_accuracy: 0.4545\n",
            "Epoch 48/50\n",
            "1/1 [==============================] - 18s 18s/step - loss: 0.6832 - accuracy: 0.4646 - val_loss: 0.6821 - val_accuracy: 0.4545\n",
            "Epoch 49/50\n",
            "1/1 [==============================] - 17s 17s/step - loss: 0.6801 - accuracy: 0.4545 - val_loss: 0.6805 - val_accuracy: 0.4545\n",
            "Epoch 50/50\n",
            "1/1 [==============================] - 18s 18s/step - loss: 0.6746 - accuracy: 0.4545 - val_loss: 0.6725 - val_accuracy: 0.5455\n"
          ]
        },
        {
          "output_type": "execute_result",
          "data": {
            "text/plain": [
              "<keras.callbacks.History at 0x7f08b550d850>"
            ]
          },
          "metadata": {},
          "execution_count": 43
        }
      ]
    },
    {
      "cell_type": "code",
      "source": [
        "train_dataset=data_generator.flow_from_directory(trainset,\n",
        "                                     target_size=(100,100),\n",
        "                                     batch_size=128,\n",
        "                                     class_mode='categorical',\n",
        "                                     subset=\"training\",\n",
        "                                     shuffle=True,)\n",
        "validation_set=data_generator.flow_from_directory(trainset,\n",
        "                                              target_size=(100,100),\n",
        "                                              batch_size=128,\n",
        "                                              class_mode='categorical',\n",
        "                                              subset=\"validation\",\n",
        "                                              shuffle=True)\n"
      ],
      "metadata": {
        "colab": {
          "base_uri": "https://localhost:8080/"
        },
        "id": "vPfwyh_AEJmY",
        "outputId": "58124915-39cd-448a-df34-f683ee5b7e89"
      },
      "execution_count": 44,
      "outputs": [
        {
          "output_type": "stream",
          "name": "stdout",
          "text": [
            "Found 99 images belonging to 2 classes.\n",
            "Found 11 images belonging to 2 classes.\n"
          ]
        }
      ]
    },
    {
      "cell_type": "code",
      "source": [
        "model.save('monan15.hs')"
      ],
      "metadata": {
        "colab": {
          "base_uri": "https://localhost:8080/"
        },
        "id": "R_a4UQ--EaZ5",
        "outputId": "eea2256a-7150-477c-a63a-4e7899e86ca3"
      },
      "execution_count": 45,
      "outputs": [
        {
          "output_type": "stream",
          "name": "stderr",
          "text": [
            "WARNING:absl:Found untraced functions such as _jit_compiled_convolution_op, _jit_compiled_convolution_op, _jit_compiled_convolution_op, _jit_compiled_convolution_op, _jit_compiled_convolution_op while saving (showing 5 of 11). These functions will not be directly callable after loading.\n"
          ]
        }
      ]
    },
    {
      "cell_type": "code",
      "source": [
        "label = ['Phat','Phuc']"
      ],
      "metadata": {
        "id": "wbOWSXjbEfOz"
      },
      "execution_count": 46,
      "outputs": []
    },
    {
      "cell_type": "code",
      "source": [
        "import numpy as np\n",
        "from tensorflow.keras.utils import load_img,img_to_array\n",
        "img = load_img('/content/drive/MyDrive/baitapai/anhai/phat/Phat (23).jpg', target_size = (100,100))\n",
        "plt.imshow(img)\n",
        "img = img_to_array(img)\n",
        "img = img.reshape(1,100,100,3) \n",
        "img = img.astype('float32')\n",
        "img = img/255\n",
        "print(label[np.argmax(model.predict(img))])"
      ],
      "metadata": {
        "colab": {
          "base_uri": "https://localhost:8080/",
          "height": 469
        },
        "id": "5rDuSi1-EgPo",
        "outputId": "a9f487fc-ae8a-4f30-c0d6-8cc01feeaac0"
      },
      "execution_count": 49,
      "outputs": [
        {
          "output_type": "stream",
          "name": "stdout",
          "text": [
            "1/1 [==============================] - 0s 341ms/step\n",
            "Phat\n"
          ]
        },
        {
          "output_type": "display_data",
          "data": {
            "text/plain": [
              "<Figure size 640x480 with 1 Axes>"
            ],
            "image/png": "[encoded data removed]"
          },
          "metadata": {}
        }
      ]
    },
    {
      "cell_type": "code",
      "source": [
        "import numpy as np\n",
        "from tensorflow.keras.utils import load_img,img_to_array\n",
        "img = load_img('/content/drive/MyDrive/baitapai/anhai/phuc/Phuc (45).jpg', target_size = (100,100))\n",
        "plt.imshow(img)\n",
        "img = img_to_array(img)\n",
        "img = img.reshape(1,100,100,3) \n",
        "img = img.astype('float32')\n",
        "img = img/255\n",
        "print(label[np.argmax(model.predict(img))])"
      ],
      "metadata": {
        "id": "CLlNAsFUEi6_"
      },
      "execution_count": null,
      "outputs": []
    }
  ]
}